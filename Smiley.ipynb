{
  "cells": [
    {
      "cell_type": "markdown",
      "metadata": {
        "colab_type": "text",
        "id": "view-in-github"
      },
      "source": [
        "<a href=\"https://colab.research.google.com/github/hassaan871/Object-Oriented-Programming/blob/main/Smiley.ipynb\" target=\"_parent\"><img src=\"https://colab.research.google.com/assets/colab-badge.svg\" alt=\"Open In Colab\"/></a>"
      ]
    },
    {
      "cell_type": "code",
      "execution_count": 14,
      "metadata": {
        "id": "LE4KwWaXekdp"
      },
      "outputs": [],
      "source": [
        "class Smiley():\n",
        "\n",
        "    def __init__(self, is_smile=False, face_color=\"white\",eye_color=\"white\"):\n",
        "        self.is_smile = is_smile\n",
        "        self.face_color = face_color\n",
        "        self.eye_color = eye_color\n",
        "\n",
        "    def set_smile(self, smile_status):\n",
        "        self.is_smile = smile_status\n",
        "        return None\n",
        "\n",
        "    def set_face_color():\n",
        "        pass\n",
        "\n",
        "    def set_eye_color():\n",
        "        pass"
      ]
    },
    {
      "cell_type": "code",
      "execution_count": 15,
      "metadata": {
        "colab": {
          "base_uri": "https://localhost:8080/"
        },
        "id": "HviElydRepvT",
        "outputId": "8b27b361-7e93-40e7-a58b-b3cbfaf685e0"
      },
      "outputs": [
        {
          "name": "stdout",
          "output_type": "stream",
          "text": [
            "True\n",
            "yello\n",
            "black\n"
          ]
        }
      ],
      "source": [
        "happy = Smiley( is_smile=True,face_color=\"yello\",eye_color=\"black\")\n",
        "print(happy.is_smile)\n",
        "print(happy.face_color)\n",
        "print(happy.eye_color)"
      ]
    },
    {
      "cell_type": "code",
      "execution_count": 13,
      "metadata": {
        "colab": {
          "base_uri": "https://localhost:8080/"
        },
        "id": "9PB-4jCOesJ9",
        "outputId": "539639ae-9dd1-4c49-a6a4-ee78f300d94e"
      },
      "outputs": [
        {
          "data": {
            "text/plain": [
              "False"
            ]
          },
          "execution_count": 13,
          "metadata": {},
          "output_type": "execute_result"
        }
      ],
      "source": [
        "sad = Smiley()\n",
        "sad.set_smile(False)\n",
        "sad.is_smile"
      ]
    },
    {
      "cell_type": "code",
      "execution_count": 9,
      "metadata": {
        "id": "koQDbIsNeubL"
      },
      "outputs": [
        {
          "data": {
            "text/plain": [
              "False"
            ]
          },
          "execution_count": 9,
          "metadata": {},
          "output_type": "execute_result"
        }
      ],
      "source": [
        "sad.is_smile"
      ]
    },
    {
      "cell_type": "code",
      "execution_count": 10,
      "metadata": {},
      "outputs": [
        {
          "data": {
            "text/plain": [
              "True"
            ]
          },
          "execution_count": 10,
          "metadata": {},
          "output_type": "execute_result"
        }
      ],
      "source": [
        "happy.is_smile"
      ]
    },
    {
      "cell_type": "code",
      "execution_count": null,
      "metadata": {},
      "outputs": [],
      "source": []
    }
  ],
  "metadata": {
    "colab": {
      "authorship_tag": "ABX9TyMs0ChUKHcklcTOIK8vTNGH",
      "include_colab_link": true,
      "provenance": []
    },
    "kernelspec": {
      "display_name": "Python 3",
      "name": "python3"
    },
    "language_info": {
      "codemirror_mode": {
        "name": "ipython",
        "version": 3
      },
      "file_extension": ".py",
      "mimetype": "text/x-python",
      "name": "python",
      "nbconvert_exporter": "python",
      "pygments_lexer": "ipython3",
      "version": "3.11.8"
    }
  },
  "nbformat": 4,
  "nbformat_minor": 0
}
