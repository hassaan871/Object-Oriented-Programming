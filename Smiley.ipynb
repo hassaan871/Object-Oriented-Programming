{
  "nbformat": 4,
  "nbformat_minor": 0,
  "metadata": {
    "colab": {
      "provenance": [],
      "authorship_tag": "ABX9TyMs0ChUKHcklcTOIK8vTNGH",
      "include_colab_link": true
    },
    "kernelspec": {
      "name": "python3",
      "display_name": "Python 3"
    },
    "language_info": {
      "name": "python"
    }
  },
  "cells": [
    {
      "cell_type": "markdown",
      "metadata": {
        "id": "view-in-github",
        "colab_type": "text"
      },
      "source": [
        "<a href=\"https://colab.research.google.com/github/hassaan871/Object-Oriented-Programming/blob/main/Smiley.ipynb\" target=\"_parent\"><img src=\"https://colab.research.google.com/assets/colab-badge.svg\" alt=\"Open In Colab\"/></a>"
      ]
    },
    {
      "cell_type": "code",
      "execution_count": 4,
      "metadata": {
        "id": "LE4KwWaXekdp"
      },
      "outputs": [],
      "source": [
        "class Smiley():\n",
        "\n",
        "    def __init__(self):\n",
        "        self.is_smile = True\n",
        "        self.face_color = \"white\"\n",
        "        self.eye_color = \"white\"\n",
        "\n",
        "    def set_smile(self, smile_status):\n",
        "        self.is_smile = smile_status\n",
        "        return None\n",
        "\n",
        "    def set_face_color():\n",
        "        pass\n",
        "\n",
        "    def set_eye_color():\n",
        "        pass"
      ]
    },
    {
      "cell_type": "code",
      "source": [
        "happy = Smiley()\n",
        "happy.is_smile"
      ],
      "metadata": {
        "colab": {
          "base_uri": "https://localhost:8080/"
        },
        "id": "HviElydRepvT",
        "outputId": "8b27b361-7e93-40e7-a58b-b3cbfaf685e0"
      },
      "execution_count": 5,
      "outputs": [
        {
          "output_type": "execute_result",
          "data": {
            "text/plain": [
              "True"
            ]
          },
          "metadata": {},
          "execution_count": 5
        }
      ]
    },
    {
      "cell_type": "code",
      "source": [
        "sad = Smiley()\n",
        "sad.set_smile(False)\n",
        "sad.is_smile"
      ],
      "metadata": {
        "colab": {
          "base_uri": "https://localhost:8080/"
        },
        "id": "9PB-4jCOesJ9",
        "outputId": "539639ae-9dd1-4c49-a6a4-ee78f300d94e"
      },
      "execution_count": 6,
      "outputs": [
        {
          "output_type": "execute_result",
          "data": {
            "text/plain": [
              "False"
            ]
          },
          "metadata": {},
          "execution_count": 6
        }
      ]
    },
    {
      "cell_type": "code",
      "source": [],
      "metadata": {
        "id": "koQDbIsNeubL"
      },
      "execution_count": null,
      "outputs": []
    }
  ]
}