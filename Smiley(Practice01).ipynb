{
  "nbformat": 4,
  "nbformat_minor": 0,
  "metadata": {
    "colab": {
      "provenance": [],
      "authorship_tag": "ABX9TyMx6M2+WzoWx5hESuQeuDhL",
      "include_colab_link": true
    },
    "kernelspec": {
      "name": "python3",
      "display_name": "Python 3"
    },
    "language_info": {
      "name": "python"
    }
  },
  "cells": [
    {
      "cell_type": "markdown",
      "metadata": {
        "id": "view-in-github",
        "colab_type": "text"
      },
      "source": [
        "<a href=\"https://colab.research.google.com/github/hassaan871/Object-Oriented-Programming/blob/main/Smiley(Practice01).ipynb\" target=\"_parent\"><img src=\"https://colab.research.google.com/assets/colab-badge.svg\" alt=\"Open In Colab\"/></a>"
      ]
    },
    {
      "cell_type": "code",
      "execution_count": 1,
      "metadata": {
        "id": "LE4KwWaXekdp"
      },
      "outputs": [],
      "source": [
        "class Smiley():\n",
        "\n",
        "    def __init__(self):\n",
        "        self.is_smile = True\n",
        "        self.face_color = \"white\"\n",
        "        self.eye_color = \"white\"\n",
        "\n",
        "    def set_smile(self, smile_status):\n",
        "        is_smile = smile_status\n",
        "        return None\n",
        "\n",
        "    def set_face_color():\n",
        "        pass\n",
        "\n",
        "    def set_eye_color():\n",
        "        pass"
      ]
    },
    {
      "cell_type": "code",
      "source": [
        "happy = Smiley()\n",
        "happy.is_smile"
      ],
      "metadata": {
        "colab": {
          "base_uri": "https://localhost:8080/"
        },
        "id": "HviElydRepvT",
        "outputId": "70f53a45-f7f2-4429-d380-a083b334c1fb"
      },
      "execution_count": 2,
      "outputs": [
        {
          "output_type": "execute_result",
          "data": {
            "text/plain": [
              "True"
            ]
          },
          "metadata": {},
          "execution_count": 2
        }
      ]
    },
    {
      "cell_type": "code",
      "source": [
        "sad = Smiley()\n",
        "sad.set_smile(False)\n",
        "sad.is_smile"
      ],
      "metadata": {
        "colab": {
          "base_uri": "https://localhost:8080/"
        },
        "id": "9PB-4jCOesJ9",
        "outputId": "63832b24-92c7-41a9-f2b9-f848da1028c8"
      },
      "execution_count": 3,
      "outputs": [
        {
          "output_type": "execute_result",
          "data": {
            "text/plain": [
              "True"
            ]
          },
          "metadata": {},
          "execution_count": 3
        }
      ]
    },
    {
      "cell_type": "code",
      "source": [],
      "metadata": {
        "id": "koQDbIsNeubL"
      },
      "execution_count": null,
      "outputs": []
    }
  ]
}